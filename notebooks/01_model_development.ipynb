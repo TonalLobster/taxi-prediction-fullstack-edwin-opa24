{
 "cells": [
  {
   "cell_type": "markdown",
   "id": "a671a334",
   "metadata": {},
   "source": [
    "# EDA"
   ]
  },
  {
   "cell_type": "code",
   "execution_count": 1,
   "id": "6a1e4c99",
   "metadata": {},
   "outputs": [
    {
     "name": "stdout",
     "output_type": "stream",
     "text": [
      "File read with no problems\n"
     ]
    }
   ],
   "source": [
    "import pandas as pd\n",
    "# file path to data file\n",
    "file_path = \"../src/taxipred/data/taxi_trip_pricing.csv\"\n",
    "# read in the data in a DataFrame\n",
    "try:\n",
    "    df = pd.read_csv(file_path)\n",
    "    print(\"File read with no problems\")\n",
    "except FileNotFoundError:\n",
    "    print(f\"Could not fins the file in serach path: {file_path}\")\n",
    "    print(\"Double check that the file path is correct.\")\n",
    "\n"
   ]
  },
  {
   "cell_type": "code",
   "execution_count": 2,
   "id": "47637590",
   "metadata": {},
   "outputs": [
    {
     "name": "stdout",
     "output_type": "stream",
     "text": [
      "   Trip_Distance_km Time_of_Day Day_of_Week  Passenger_Count  \\\n",
      "0             19.35     Morning     Weekday              3.0   \n",
      "1             47.59   Afternoon     Weekday              1.0   \n",
      "2             36.87     Evening     Weekend              1.0   \n",
      "3             30.33     Evening     Weekday              4.0   \n",
      "4               NaN     Evening     Weekday              3.0   \n",
      "\n",
      "  Traffic_Conditions Weather  Base_Fare  Per_Km_Rate  Per_Minute_Rate  \\\n",
      "0                Low   Clear       3.56         0.80             0.32   \n",
      "1               High   Clear        NaN         0.62             0.43   \n",
      "2               High   Clear       2.70         1.21             0.15   \n",
      "3                Low     NaN       3.48         0.51             0.15   \n",
      "4               High   Clear       2.93         0.63             0.32   \n",
      "\n",
      "   Trip_Duration_Minutes  Trip_Price  \n",
      "0                  53.82     36.2624  \n",
      "1                  40.57         NaN  \n",
      "2                  37.27     52.9032  \n",
      "3                 116.81     36.4698  \n",
      "4                  22.64     15.6180  \n"
     ]
    }
   ],
   "source": [
    "# print the first 5 rows\n",
    "print(df.head())"
   ]
  },
  {
   "cell_type": "code",
   "execution_count": 3,
   "id": "4a20c053",
   "metadata": {},
   "outputs": [
    {
     "name": "stdout",
     "output_type": "stream",
     "text": [
      "<class 'pandas.core.frame.DataFrame'>\n",
      "RangeIndex: 1000 entries, 0 to 999\n",
      "Data columns (total 11 columns):\n",
      " #   Column                 Non-Null Count  Dtype  \n",
      "---  ------                 --------------  -----  \n",
      " 0   Trip_Distance_km       950 non-null    float64\n",
      " 1   Time_of_Day            950 non-null    object \n",
      " 2   Day_of_Week            950 non-null    object \n",
      " 3   Passenger_Count        950 non-null    float64\n",
      " 4   Traffic_Conditions     950 non-null    object \n",
      " 5   Weather                950 non-null    object \n",
      " 6   Base_Fare              950 non-null    float64\n",
      " 7   Per_Km_Rate            950 non-null    float64\n",
      " 8   Per_Minute_Rate        950 non-null    float64\n",
      " 9   Trip_Duration_Minutes  950 non-null    float64\n",
      " 10  Trip_Price             951 non-null    float64\n",
      "dtypes: float64(7), object(4)\n",
      "memory usage: 86.1+ KB\n",
      "None\n"
     ]
    }
   ],
   "source": [
    "# technical overview of columns, data types and nulls\n",
    "print(df.info())"
   ]
  },
  {
   "cell_type": "code",
   "execution_count": 4,
   "id": "9cfed3cd",
   "metadata": {},
   "outputs": [
    {
     "name": "stdout",
     "output_type": "stream",
     "text": [
      "Trip_Distance_km         50\n",
      "Time_of_Day              50\n",
      "Day_of_Week              50\n",
      "Passenger_Count          50\n",
      "Traffic_Conditions       50\n",
      "Weather                  50\n",
      "Base_Fare                50\n",
      "Per_Km_Rate              50\n",
      "Per_Minute_Rate          50\n",
      "Trip_Duration_Minutes    50\n",
      "Trip_Price               49\n",
      "dtype: int64\n"
     ]
    }
   ],
   "source": [
    "# overview of how many values that is missing per column.\n",
    "print(df.isnull().sum())"
   ]
  },
  {
   "cell_type": "code",
   "execution_count": 5,
   "id": "de5643f2",
   "metadata": {},
   "outputs": [
    {
     "name": "stdout",
     "output_type": "stream",
     "text": [
      "       Trip_Distance_km  Passenger_Count   Base_Fare  Per_Km_Rate  \\\n",
      "count        950.000000       950.000000  950.000000   950.000000   \n",
      "mean          27.070547         2.476842    3.502989     1.233316   \n",
      "std           19.905300         1.102249    0.870162     0.429816   \n",
      "min            1.230000         1.000000    2.010000     0.500000   \n",
      "25%           12.632500         1.250000    2.730000     0.860000   \n",
      "50%           25.830000         2.000000    3.520000     1.220000   \n",
      "75%           38.405000         3.000000    4.260000     1.610000   \n",
      "max          146.067047         4.000000    5.000000     2.000000   \n",
      "\n",
      "       Per_Minute_Rate  Trip_Duration_Minutes  Trip_Price  \n",
      "count       950.000000             950.000000  951.000000  \n",
      "mean          0.292916              62.118116   56.874773  \n",
      "std           0.115592              32.154406   40.469791  \n",
      "min           0.100000               5.010000    6.126900  \n",
      "25%           0.190000              35.882500   33.742650  \n",
      "50%           0.290000              61.860000   50.074500  \n",
      "75%           0.390000              89.055000   69.099350  \n",
      "max           0.500000             119.840000  332.043689  \n"
     ]
    }
   ],
   "source": [
    "# statistic information about the numerical columns\n",
    "print(df.describe())"
   ]
  },
  {
   "cell_type": "markdown",
   "id": "e55be622",
   "metadata": {},
   "source": [
    "#### Save columns were Trip_Price is not defined to a new csv file"
   ]
  },
  {
   "cell_type": "code",
   "execution_count": 6,
   "id": "40f4922c",
   "metadata": {},
   "outputs": [
    {
     "name": "stdout",
     "output_type": "stream",
     "text": [
      "Saved 49 rows without price to a new file for future use.\n"
     ]
    }
   ],
   "source": [
    "df_for_prediction = df[df[\"Trip_Price\"].isnull()].copy()\n",
    "df_for_prediction.to_csv(\"../src/taxipred/data/taxi_trips_for_prediction.csv\", index = False)\n",
    "print(f\"Saved {len(df_for_prediction)} rows without price to a new file for future use.\")"
   ]
  },
  {
   "cell_type": "markdown",
   "id": "e16b4e2e",
   "metadata": {},
   "source": [
    "# Data cleaning"
   ]
  },
  {
   "cell_type": "code",
   "execution_count": 7,
   "id": "8e02473d",
   "metadata": {},
   "outputs": [
    {
     "data": {
      "text/html": [
       "<div>\n",
       "<style scoped>\n",
       "    .dataframe tbody tr th:only-of-type {\n",
       "        vertical-align: middle;\n",
       "    }\n",
       "\n",
       "    .dataframe tbody tr th {\n",
       "        vertical-align: top;\n",
       "    }\n",
       "\n",
       "    .dataframe thead th {\n",
       "        text-align: right;\n",
       "    }\n",
       "</style>\n",
       "<table border=\"1\" class=\"dataframe\">\n",
       "  <thead>\n",
       "    <tr style=\"text-align: right;\">\n",
       "      <th></th>\n",
       "      <th>Trip_Distance_km</th>\n",
       "      <th>Time_of_Day</th>\n",
       "      <th>Day_of_Week</th>\n",
       "      <th>Passenger_Count</th>\n",
       "      <th>Traffic_Conditions</th>\n",
       "      <th>Weather</th>\n",
       "      <th>Base_Fare</th>\n",
       "      <th>Per_Km_Rate</th>\n",
       "      <th>Per_Minute_Rate</th>\n",
       "      <th>Trip_Duration_Minutes</th>\n",
       "      <th>Trip_Price</th>\n",
       "    </tr>\n",
       "  </thead>\n",
       "  <tbody>\n",
       "    <tr>\n",
       "      <th>0</th>\n",
       "      <td>19.35</td>\n",
       "      <td>Morning</td>\n",
       "      <td>Weekday</td>\n",
       "      <td>3.0</td>\n",
       "      <td>Low</td>\n",
       "      <td>Clear</td>\n",
       "      <td>3.56</td>\n",
       "      <td>0.80</td>\n",
       "      <td>0.32</td>\n",
       "      <td>53.82</td>\n",
       "      <td>36.2624</td>\n",
       "    </tr>\n",
       "    <tr>\n",
       "      <th>2</th>\n",
       "      <td>36.87</td>\n",
       "      <td>Evening</td>\n",
       "      <td>Weekend</td>\n",
       "      <td>1.0</td>\n",
       "      <td>High</td>\n",
       "      <td>Clear</td>\n",
       "      <td>2.70</td>\n",
       "      <td>1.21</td>\n",
       "      <td>0.15</td>\n",
       "      <td>37.27</td>\n",
       "      <td>52.9032</td>\n",
       "    </tr>\n",
       "    <tr>\n",
       "      <th>3</th>\n",
       "      <td>30.33</td>\n",
       "      <td>Evening</td>\n",
       "      <td>Weekday</td>\n",
       "      <td>4.0</td>\n",
       "      <td>Low</td>\n",
       "      <td>NaN</td>\n",
       "      <td>3.48</td>\n",
       "      <td>0.51</td>\n",
       "      <td>0.15</td>\n",
       "      <td>116.81</td>\n",
       "      <td>36.4698</td>\n",
       "    </tr>\n",
       "    <tr>\n",
       "      <th>4</th>\n",
       "      <td>NaN</td>\n",
       "      <td>Evening</td>\n",
       "      <td>Weekday</td>\n",
       "      <td>3.0</td>\n",
       "      <td>High</td>\n",
       "      <td>Clear</td>\n",
       "      <td>2.93</td>\n",
       "      <td>0.63</td>\n",
       "      <td>0.32</td>\n",
       "      <td>22.64</td>\n",
       "      <td>15.6180</td>\n",
       "    </tr>\n",
       "    <tr>\n",
       "      <th>5</th>\n",
       "      <td>8.64</td>\n",
       "      <td>Afternoon</td>\n",
       "      <td>Weekend</td>\n",
       "      <td>2.0</td>\n",
       "      <td>Medium</td>\n",
       "      <td>Clear</td>\n",
       "      <td>2.55</td>\n",
       "      <td>1.71</td>\n",
       "      <td>0.48</td>\n",
       "      <td>89.33</td>\n",
       "      <td>60.2028</td>\n",
       "    </tr>\n",
       "  </tbody>\n",
       "</table>\n",
       "</div>"
      ],
      "text/plain": [
       "   Trip_Distance_km Time_of_Day Day_of_Week  Passenger_Count  \\\n",
       "0             19.35     Morning     Weekday              3.0   \n",
       "2             36.87     Evening     Weekend              1.0   \n",
       "3             30.33     Evening     Weekday              4.0   \n",
       "4               NaN     Evening     Weekday              3.0   \n",
       "5              8.64   Afternoon     Weekend              2.0   \n",
       "\n",
       "  Traffic_Conditions Weather  Base_Fare  Per_Km_Rate  Per_Minute_Rate  \\\n",
       "0                Low   Clear       3.56         0.80             0.32   \n",
       "2               High   Clear       2.70         1.21             0.15   \n",
       "3                Low     NaN       3.48         0.51             0.15   \n",
       "4               High   Clear       2.93         0.63             0.32   \n",
       "5             Medium   Clear       2.55         1.71             0.48   \n",
       "\n",
       "   Trip_Duration_Minutes  Trip_Price  \n",
       "0                  53.82     36.2624  \n",
       "2                  37.27     52.9032  \n",
       "3                 116.81     36.4698  \n",
       "4                  22.64     15.6180  \n",
       "5                  89.33     60.2028  "
      ]
     },
     "execution_count": 7,
     "metadata": {},
     "output_type": "execute_result"
    }
   ],
   "source": [
    "df_cleaned = df.copy()\n",
    "# clean the data from the columns we just moved to a new file so we dont leak the data.\n",
    "df_cleaned.dropna(subset = [\"Trip_Price\"], inplace = True)\n",
    "\n",
    "df_cleaned.head()"
   ]
  },
  {
   "cell_type": "code",
   "execution_count": 8,
   "id": "456be236",
   "metadata": {},
   "outputs": [
    {
     "name": "stdout",
     "output_type": "stream",
     "text": [
      "Filled the missing values in Trip_Distance_km with the mean value 25.87\n",
      "Filled the missing values in Passenger_Count with the mean value 2.00\n",
      "Filled the missing values in Base_Fare with the mean value 3.51\n",
      "Filled the missing values in Per_Km_Rate with the mean value 1.22\n",
      "Filled the missing values in Per_Minute_Rate with the mean value 0.29\n",
      "Filled the missing values in Trip_Duration_Minutes with the mean value 61.57\n"
     ]
    },
    {
     "name": "stderr",
     "output_type": "stream",
     "text": [
      "C:\\Users\\edwin\\AppData\\Local\\Temp\\ipykernel_10204\\351062758.py:5: FutureWarning: A value is trying to be set on a copy of a DataFrame or Series through chained assignment using an inplace method.\n",
      "The behavior will change in pandas 3.0. This inplace method will never work because the intermediate object on which we are setting values always behaves as a copy.\n",
      "\n",
      "For example, when doing 'df[col].method(value, inplace=True)', try using 'df.method({col: value}, inplace=True)' or df[col] = df[col].method(value) instead, to perform the operation inplace on the original object.\n",
      "\n",
      "\n",
      "  df_cleaned[col].fillna(median_value, inplace = True)\n",
      "C:\\Users\\edwin\\AppData\\Local\\Temp\\ipykernel_10204\\351062758.py:5: FutureWarning: A value is trying to be set on a copy of a DataFrame or Series through chained assignment using an inplace method.\n",
      "The behavior will change in pandas 3.0. This inplace method will never work because the intermediate object on which we are setting values always behaves as a copy.\n",
      "\n",
      "For example, when doing 'df[col].method(value, inplace=True)', try using 'df.method({col: value}, inplace=True)' or df[col] = df[col].method(value) instead, to perform the operation inplace on the original object.\n",
      "\n",
      "\n",
      "  df_cleaned[col].fillna(median_value, inplace = True)\n",
      "C:\\Users\\edwin\\AppData\\Local\\Temp\\ipykernel_10204\\351062758.py:5: FutureWarning: A value is trying to be set on a copy of a DataFrame or Series through chained assignment using an inplace method.\n",
      "The behavior will change in pandas 3.0. This inplace method will never work because the intermediate object on which we are setting values always behaves as a copy.\n",
      "\n",
      "For example, when doing 'df[col].method(value, inplace=True)', try using 'df.method({col: value}, inplace=True)' or df[col] = df[col].method(value) instead, to perform the operation inplace on the original object.\n",
      "\n",
      "\n",
      "  df_cleaned[col].fillna(median_value, inplace = True)\n",
      "C:\\Users\\edwin\\AppData\\Local\\Temp\\ipykernel_10204\\351062758.py:5: FutureWarning: A value is trying to be set on a copy of a DataFrame or Series through chained assignment using an inplace method.\n",
      "The behavior will change in pandas 3.0. This inplace method will never work because the intermediate object on which we are setting values always behaves as a copy.\n",
      "\n",
      "For example, when doing 'df[col].method(value, inplace=True)', try using 'df.method({col: value}, inplace=True)' or df[col] = df[col].method(value) instead, to perform the operation inplace on the original object.\n",
      "\n",
      "\n",
      "  df_cleaned[col].fillna(median_value, inplace = True)\n",
      "C:\\Users\\edwin\\AppData\\Local\\Temp\\ipykernel_10204\\351062758.py:5: FutureWarning: A value is trying to be set on a copy of a DataFrame or Series through chained assignment using an inplace method.\n",
      "The behavior will change in pandas 3.0. This inplace method will never work because the intermediate object on which we are setting values always behaves as a copy.\n",
      "\n",
      "For example, when doing 'df[col].method(value, inplace=True)', try using 'df.method({col: value}, inplace=True)' or df[col] = df[col].method(value) instead, to perform the operation inplace on the original object.\n",
      "\n",
      "\n",
      "  df_cleaned[col].fillna(median_value, inplace = True)\n",
      "C:\\Users\\edwin\\AppData\\Local\\Temp\\ipykernel_10204\\351062758.py:5: FutureWarning: A value is trying to be set on a copy of a DataFrame or Series through chained assignment using an inplace method.\n",
      "The behavior will change in pandas 3.0. This inplace method will never work because the intermediate object on which we are setting values always behaves as a copy.\n",
      "\n",
      "For example, when doing 'df[col].method(value, inplace=True)', try using 'df.method({col: value}, inplace=True)' or df[col] = df[col].method(value) instead, to perform the operation inplace on the original object.\n",
      "\n",
      "\n",
      "  df_cleaned[col].fillna(median_value, inplace = True)\n"
     ]
    }
   ],
   "source": [
    "# add a mean value for all the other numerical columns that contains null values.\n",
    "for col in [\"Trip_Distance_km\", \"Passenger_Count\", \"Base_Fare\", \"Per_Km_Rate\", \"Per_Minute_Rate\", \"Trip_Duration_Minutes\"]:\n",
    "    if df_cleaned[col].isnull().any():\n",
    "        median_value = df_cleaned[col].median() # we use median instead of mean to better handle outliers.\n",
    "        df_cleaned[col].fillna(median_value, inplace = True)\n",
    "        print(f\"Filled the missing values in {col} with the mean value {median_value:.2f}\")"
   ]
  },
  {
   "cell_type": "code",
   "execution_count": 9,
   "id": "29e5244a",
   "metadata": {},
   "outputs": [
    {
     "name": "stdout",
     "output_type": "stream",
     "text": [
      "Filled in missing values in 'Time_of_Day' with the common value 'Afternoon'\n",
      "Filled in missing values in 'Day_of_Week' with the common value 'Weekday'\n",
      "Filled in missing values in 'Traffic_Conditions' with the common value 'Low'\n",
      "Filled in missing values in 'Weather' with the common value 'Clear'\n"
     ]
    },
    {
     "name": "stderr",
     "output_type": "stream",
     "text": [
      "C:\\Users\\edwin\\AppData\\Local\\Temp\\ipykernel_10204\\3629767928.py:6: FutureWarning: A value is trying to be set on a copy of a DataFrame or Series through chained assignment using an inplace method.\n",
      "The behavior will change in pandas 3.0. This inplace method will never work because the intermediate object on which we are setting values always behaves as a copy.\n",
      "\n",
      "For example, when doing 'df[col].method(value, inplace=True)', try using 'df.method({col: value}, inplace=True)' or df[col] = df[col].method(value) instead, to perform the operation inplace on the original object.\n",
      "\n",
      "\n",
      "  df_cleaned[col].fillna(mode_value, inplace=True)\n"
     ]
    }
   ],
   "source": [
    "# add data to categorical columns that had null values\n",
    "categorical_cols = [\"Time_of_Day\", \"Day_of_Week\", \"Traffic_Conditions\", \"Weather\"]\n",
    "for col in categorical_cols:\n",
    "    if df_cleaned[col].isnull().any():\n",
    "        mode_value = df_cleaned[col].mode()[0]\n",
    "        df_cleaned[col].fillna(mode_value, inplace=True)\n",
    "        print(f\"Filled in missing values in '{col}' with the common value '{mode_value}'\")"
   ]
  },
  {
   "cell_type": "code",
   "execution_count": 10,
   "id": "9f9e620d",
   "metadata": {},
   "outputs": [
    {
     "name": "stdout",
     "output_type": "stream",
     "text": [
      "Result after cleaning:\n",
      "Trip_Distance_km         0\n",
      "Time_of_Day              0\n",
      "Day_of_Week              0\n",
      "Passenger_Count          0\n",
      "Traffic_Conditions       0\n",
      "Weather                  0\n",
      "Base_Fare                0\n",
      "Per_Km_Rate              0\n",
      "Per_Minute_Rate          0\n",
      "Trip_Duration_Minutes    0\n",
      "Trip_Price               0\n",
      "dtype: int64\n"
     ]
    }
   ],
   "source": [
    "print(\"Result after cleaning:\")\n",
    "print(df_cleaned.isnull().sum())"
   ]
  }
 ],
 "metadata": {
  "kernelspec": {
   "display_name": ".venv",
   "language": "python",
   "name": "python3"
  },
  "language_info": {
   "codemirror_mode": {
    "name": "ipython",
    "version": 3
   },
   "file_extension": ".py",
   "mimetype": "text/x-python",
   "name": "python",
   "nbconvert_exporter": "python",
   "pygments_lexer": "ipython3",
   "version": "3.11.9"
  }
 },
 "nbformat": 4,
 "nbformat_minor": 5
}
