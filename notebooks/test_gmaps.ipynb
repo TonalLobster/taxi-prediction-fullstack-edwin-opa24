{
 "cells": [
  {
   "cell_type": "markdown",
   "id": "60f2e01f",
   "metadata": {},
   "source": [
    "# jupyter for google maps testing"
   ]
  },
  {
   "cell_type": "code",
   "execution_count": 2,
   "id": "9ce5b859",
   "metadata": {},
   "outputs": [
    {
     "name": "stdout",
     "output_type": "stream",
     "text": [
      "Testing Google Maps Directions API for: Centralstationen, Göteborg -> Liseberg, Göteborg\n",
      "Test Successful!\n",
      "Distance(km): 3.88\n",
      "Duration(minutes, with traffic): 14.18\n",
      "Traffic Data Used: Yes\n"
     ]
    }
   ],
   "source": [
    "import datetime\n",
    "import googlemaps\n",
    "import os \n",
    "from dotenv import load_dotenv\n",
    "\n",
    "# configuration\n",
    "# 1. Load in variables from .env\n",
    "load_dotenv()\n",
    "\n",
    "# 2. Read the API-key from env\n",
    "GMAPS_API_KEY = os.getenv(\"GOOGLE_MAPS_API_KEY\")\n",
    "\n",
    "# initiate Google Maps Client\n",
    "gmaps = googlemaps.Client(key=GMAPS_API_KEY)\n",
    "\n",
    "start_location = \"Centralstationen, Göteborg\"\n",
    "end_location = \"Liseberg, Göteborg\"\n",
    "\n",
    "print(f\"Testing Google Maps Directions API for: {start_location} -> {end_location}\")\n",
    "\n",
    "try:\n",
    "    # use departure_time = \"now\" to get duration_in_traffic\n",
    "    directions_result = gmaps.directions(\n",
    "        start_location,\n",
    "        end_location,\n",
    "        mode=\"driving\",\n",
    "        departure_time=\"now\"\n",
    "    )\n",
    "\n",
    "    if not directions_result:\n",
    "        print(\"Test Failed. Couldnt find route\")\n",
    "    else:\n",
    "        route = directions_result[0][\"legs\"][0]\n",
    "        distance_km = route[\"distance\"][\"value\"] / 1000\n",
    "\n",
    "        # use travel time with traffic\n",
    "        duration_s = route[\"duration_in_traffic\"][\"value\"]\n",
    "        duration_minutes = duration_s / 60\n",
    "\n",
    "        print(\"Test Successful!\")\n",
    "        print(f\"Distance(km): {distance_km:.2f}\")\n",
    "        print(f\"Duration(minutes, with traffic): {duration_minutes:.2f}\")\n",
    "        print(f\"Traffic Data Used: Yes\")\n",
    "\n",
    "except Exception as e:\n",
    "    print(\"TEST FAILED\")\n",
    "    print(f\"Errror:{e}. Check your API key, network and if directions api is enabled\")\n",
    "\n",
    "\n"
   ]
  },
  {
   "cell_type": "code",
   "execution_count": null,
   "id": "6244eba0",
   "metadata": {},
   "outputs": [],
   "source": []
  },
  {
   "cell_type": "code",
   "execution_count": null,
   "id": "97369499",
   "metadata": {},
   "outputs": [],
   "source": []
  }
 ],
 "metadata": {
  "kernelspec": {
   "display_name": ".venv",
   "language": "python",
   "name": "python3"
  },
  "language_info": {
   "codemirror_mode": {
    "name": "ipython",
    "version": 3
   },
   "file_extension": ".py",
   "mimetype": "text/x-python",
   "name": "python",
   "nbconvert_exporter": "python",
   "pygments_lexer": "ipython3",
   "version": "3.11.9"
  }
 },
 "nbformat": 4,
 "nbformat_minor": 5
}
