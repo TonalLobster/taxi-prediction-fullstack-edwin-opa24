{
 "cells": [
  {
   "cell_type": "markdown",
   "id": "a671a334",
   "metadata": {},
   "source": [
    "# EDA"
   ]
  },
  {
   "cell_type": "code",
   "execution_count": 2,
   "id": "6a1e4c99",
   "metadata": {},
   "outputs": [
    {
     "name": "stdout",
     "output_type": "stream",
     "text": [
      "File read with no problems\n"
     ]
    }
   ],
   "source": [
    "import pandas as pd\n",
    "# file path to data file\n",
    "file_path = \"../src/taxipred/data/taxi_trip_pricing.csv\"\n",
    "# read in the data in a DataFrame\n",
    "try:\n",
    "    df = pd.read_csv(file_path)\n",
    "    print(\"File read with no problems\")\n",
    "except FileNotFoundError:\n",
    "    print(f\"Could not fins the file in serach path: {file_path}\")\n",
    "    print(\"Double check that the file path is correct.\")\n",
    "\n"
   ]
  },
  {
   "cell_type": "code",
   "execution_count": 3,
   "id": "47637590",
   "metadata": {},
   "outputs": [
    {
     "name": "stdout",
     "output_type": "stream",
     "text": [
      "   Trip_Distance_km Time_of_Day Day_of_Week  Passenger_Count  \\\n",
      "0             19.35     Morning     Weekday              3.0   \n",
      "1             47.59   Afternoon     Weekday              1.0   \n",
      "2             36.87     Evening     Weekend              1.0   \n",
      "3             30.33     Evening     Weekday              4.0   \n",
      "4               NaN     Evening     Weekday              3.0   \n",
      "\n",
      "  Traffic_Conditions Weather  Base_Fare  Per_Km_Rate  Per_Minute_Rate  \\\n",
      "0                Low   Clear       3.56         0.80             0.32   \n",
      "1               High   Clear        NaN         0.62             0.43   \n",
      "2               High   Clear       2.70         1.21             0.15   \n",
      "3                Low     NaN       3.48         0.51             0.15   \n",
      "4               High   Clear       2.93         0.63             0.32   \n",
      "\n",
      "   Trip_Duration_Minutes  Trip_Price  \n",
      "0                  53.82     36.2624  \n",
      "1                  40.57         NaN  \n",
      "2                  37.27     52.9032  \n",
      "3                 116.81     36.4698  \n",
      "4                  22.64     15.6180  \n"
     ]
    }
   ],
   "source": [
    "# print the first 5 rows\n",
    "print(df.head())"
   ]
  },
  {
   "cell_type": "code",
   "execution_count": 4,
   "id": "4a20c053",
   "metadata": {},
   "outputs": [
    {
     "name": "stdout",
     "output_type": "stream",
     "text": [
      "<class 'pandas.core.frame.DataFrame'>\n",
      "RangeIndex: 1000 entries, 0 to 999\n",
      "Data columns (total 11 columns):\n",
      " #   Column                 Non-Null Count  Dtype  \n",
      "---  ------                 --------------  -----  \n",
      " 0   Trip_Distance_km       950 non-null    float64\n",
      " 1   Time_of_Day            950 non-null    object \n",
      " 2   Day_of_Week            950 non-null    object \n",
      " 3   Passenger_Count        950 non-null    float64\n",
      " 4   Traffic_Conditions     950 non-null    object \n",
      " 5   Weather                950 non-null    object \n",
      " 6   Base_Fare              950 non-null    float64\n",
      " 7   Per_Km_Rate            950 non-null    float64\n",
      " 8   Per_Minute_Rate        950 non-null    float64\n",
      " 9   Trip_Duration_Minutes  950 non-null    float64\n",
      " 10  Trip_Price             951 non-null    float64\n",
      "dtypes: float64(7), object(4)\n",
      "memory usage: 86.1+ KB\n",
      "None\n"
     ]
    }
   ],
   "source": [
    "# technical overview of columns, data types and nulls\n",
    "print(df.info())"
   ]
  },
  {
   "cell_type": "code",
   "execution_count": 5,
   "id": "9cfed3cd",
   "metadata": {},
   "outputs": [
    {
     "name": "stdout",
     "output_type": "stream",
     "text": [
      "Trip_Distance_km         50\n",
      "Time_of_Day              50\n",
      "Day_of_Week              50\n",
      "Passenger_Count          50\n",
      "Traffic_Conditions       50\n",
      "Weather                  50\n",
      "Base_Fare                50\n",
      "Per_Km_Rate              50\n",
      "Per_Minute_Rate          50\n",
      "Trip_Duration_Minutes    50\n",
      "Trip_Price               49\n",
      "dtype: int64\n"
     ]
    }
   ],
   "source": [
    "# overview of how many values that is missing per column.\n",
    "print(df.isnull().sum())"
   ]
  },
  {
   "cell_type": "code",
   "execution_count": 6,
   "id": "de5643f2",
   "metadata": {},
   "outputs": [
    {
     "name": "stdout",
     "output_type": "stream",
     "text": [
      "       Trip_Distance_km  Passenger_Count   Base_Fare  Per_Km_Rate  \\\n",
      "count        950.000000       950.000000  950.000000   950.000000   \n",
      "mean          27.070547         2.476842    3.502989     1.233316   \n",
      "std           19.905300         1.102249    0.870162     0.429816   \n",
      "min            1.230000         1.000000    2.010000     0.500000   \n",
      "25%           12.632500         1.250000    2.730000     0.860000   \n",
      "50%           25.830000         2.000000    3.520000     1.220000   \n",
      "75%           38.405000         3.000000    4.260000     1.610000   \n",
      "max          146.067047         4.000000    5.000000     2.000000   \n",
      "\n",
      "       Per_Minute_Rate  Trip_Duration_Minutes  Trip_Price  \n",
      "count       950.000000             950.000000  951.000000  \n",
      "mean          0.292916              62.118116   56.874773  \n",
      "std           0.115592              32.154406   40.469791  \n",
      "min           0.100000               5.010000    6.126900  \n",
      "25%           0.190000              35.882500   33.742650  \n",
      "50%           0.290000              61.860000   50.074500  \n",
      "75%           0.390000              89.055000   69.099350  \n",
      "max           0.500000             119.840000  332.043689  \n"
     ]
    }
   ],
   "source": [
    "# statistic information about the numerical columns\n",
    "print(df.describe())"
   ]
  },
  {
   "cell_type": "markdown",
   "id": "e55be622",
   "metadata": {},
   "source": [
    "#### Save columns were Trip_Price is not defined to a new csv file"
   ]
  },
  {
   "cell_type": "code",
   "execution_count": 7,
   "id": "40f4922c",
   "metadata": {},
   "outputs": [
    {
     "name": "stdout",
     "output_type": "stream",
     "text": [
      "Saved 49 rows without price to a new file for future use.\n"
     ]
    }
   ],
   "source": [
    "df_for_prediction = df[df[\"Trip_Price\"].isnull()].copy()\n",
    "df_for_prediction.to_csv(\"../src/taxipred/data/taxi_trips_for_prediction.csv\", index = False)\n",
    "print(f\"Saved {len(df_for_prediction)} rows without price to a new file for future use.\")"
   ]
  },
  {
   "cell_type": "markdown",
   "id": "e16b4e2e",
   "metadata": {},
   "source": [
    "# Data cleaning"
   ]
  },
  {
   "cell_type": "code",
   "execution_count": null,
   "id": "8e02473d",
   "metadata": {},
   "outputs": [],
   "source": [
    "df_cleaned = df.copy()\n",
    "\n",
    "df_cleaned.dropna(subset = [\"Trip_Price\"], inplace = True)\n",
    "\n",
    "for col in [\"Trip_Distance_km\", \"Passenger_Count\", \"Trip_Duration_Minutes\"]:\n",
    "    if df_cleaned[]"
   ]
  }
 ],
 "metadata": {
  "kernelspec": {
   "display_name": ".venv",
   "language": "python",
   "name": "python3"
  },
  "language_info": {
   "codemirror_mode": {
    "name": "ipython",
    "version": 3
   },
   "file_extension": ".py",
   "mimetype": "text/x-python",
   "name": "python",
   "nbconvert_exporter": "python",
   "pygments_lexer": "ipython3",
   "version": "3.11.9"
  }
 },
 "nbformat": 4,
 "nbformat_minor": 5
}
